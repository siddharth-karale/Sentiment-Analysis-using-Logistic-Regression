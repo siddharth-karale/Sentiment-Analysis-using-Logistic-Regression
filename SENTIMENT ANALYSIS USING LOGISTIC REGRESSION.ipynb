{
 "cells": [
  {
   "cell_type": "markdown",
   "id": "57c68dd5-95bf-4828-b091-8011766094f7",
   "metadata": {},
   "source": [
    "* The \"sentiment\" dataset consists of 3000 sentences which come from reviews on \"imdb.com\", \n",
    "\"amazon.com\", and \"yelp.com\". Each sentence isllabeled according to whether it comes from a \r\n",
    "positive review or negative revie data."
   ]
  },
  {
   "cell_type": "markdown",
   "id": "0baefa88-383b-46c7-a0a6-fe35b3235ec0",
   "metadata": {},
   "source": [
    "* The data set consists of 3000 sentences, each labeled '1' (if it came from a positive review) or '0' (if it icame from a negative review). To be  consistent with our notation from lecture, we will change the negative review label to '-1'."
   ]
  },
  {
   "cell_type": "markdown",
   "id": "3ed00b2b-b948-4629-83d9-ee83528e0492",
   "metadata": {},
   "source": [
    "* We will use logistic regression to learn a classifier from this data."
   ]
  },
  {
   "cell_type": "code",
   "execution_count": 1,
   "id": "b3c6bde1-7d32-4fe4-8cd0-641564ad73af",
   "metadata": {},
   "outputs": [],
   "source": [
    "import string \n",
    "import numpy as np \n",
    "import matplotlib \n",
    "import matplotlib.pyplot as plt \n",
    "matplotlib.rc('xtick', labelsize=14) \n",
    "matplotlib.rc('ytick', labelsize=14) \n",
    "from sklearn.feature_extraction.text import CountVectorizer \n",
    "from sklearn.linear_model import SGDClassifier \n",
    "import warnings \n",
    "warnings.filterwarnings(\"ignore\")"
   ]
  },
  {
   "cell_type": "code",
   "execution_count": 2,
   "id": "f216b7c8-5c6c-4afe-abc1-17ad6c1f6c56",
   "metadata": {},
   "outputs": [],
   "source": [
    "#Read in the data set: \n",
    "with open(r\"K:\\DATA SCIENCE\\DataSets\\TopMentor Datasets\\data\\full_set.txt\") as f: \n",
    "    content = f.readlines() \n",
    " \n",
    "#Remove leading and trailing white space \n",
    "content = [x.strip() for x in content] \n",
    "#Separate the sentences from the labels: \n",
    "sentences = [x.split(\"\\t\")[0] for x in content] \n",
    "labels = [x.split(\"\\t\")[1] for x in content] \n",
    "#Transform the labels from '0 versus 1' to '-1 versus 1': \n",
    "y = np.array(labels, dtype='int8') \n",
    "y = 2*y - 1 "
   ]
  },
  {
   "cell_type": "markdown",
   "id": "9c239622-9bba-4b7e-b8d8-e0924cb12299",
   "metadata": {},
   "source": [
    "Preprocessing the text data \n",
    "* To transform this prediction problem into an linear classification, we will need to preprocess the text data. We will do four transformations: \n",
    "    * Remove punctuation and numbers. \n",
    "    * Transform all words to lower-case. \n",
    "    * Remove stop words. \n",
    "    * Convert the sentences into vectors, using a bag-of-words representation. \n",
    "* We begin with first two steps "
   ]
  },
  {
   "cell_type": "code",
   "execution_count": 5,
   "id": "7927ec71-882c-467a-ae8d-b939c1c23d43",
   "metadata": {},
   "outputs": [],
   "source": [
    "#\"full_remove\" takes a string x and a list of characters \"removal_list\" and returns with all the characters in removal_list \n",
    "# replaced by ' ' . \n",
    "def full_remove(x, removal_list): \n",
    "    for w in removal_list: \n",
    "        x = x.replace(w, ' ') \n",
    "    return x \n",
    " \n",
    "digits = [str(x) for x in range(10)] # Remove digits \n",
    "digit_less = [full_remove(x, digits) for x in sentences] \n",
    "punc_less = [full_remove(x, list(string.punctuation)) for x in digit_less] # Remove punctuation \n",
    "sents_lower = [x.lower() for x in punc_less] # Make everything lowercase"
   ]
  },
  {
   "cell_type": "code",
   "execution_count": 6,
   "id": "f7d1b3aa-6f9a-489a-b3cf-0c1146516b18",
   "metadata": {},
   "outputs": [],
   "source": [
    " \n",
    "#Stop words - Stop words are the words that are filtered out because \n",
    "# they are believed to contain no useful information for the task at hand. \n",
    "# These usually include articles such as 'a' and 'the', pronouns such \n",
    "# as 'i' and 'they', and prepositions such 'to' and 'from'. \n",
    "# We have put together a very small list of stop words, \n",
    "# but these are by no means comprehensive. \n",
    " \n",
    "# Define our stop words \n",
    "stop_set = set(['the', 'a', 'an', 'i', 'he', 'she', 'they', 'to', \n",
    "'of', 'it', 'from']) \n",
    "# Remove stop words \n",
    "sents_split = [x.split() for x in sents_lower] \n",
    "sents_processed = [\" \".join(list(filter(lambda a: a not in stop_set, x))) for x in sents_split] \n",
    " \n"
   ]
  },
  {
   "cell_type": "code",
   "execution_count": 7,
   "id": "d0086bc4-6130-4676-ba7c-09043f1ce809",
   "metadata": {
    "scrolled": true
   },
   "outputs": [
    {
     "data": {
      "text/plain": [
       "['so there is no way for me plug in here in us unless go by converter',\n",
       " 'good case excellent value',\n",
       " 'great for jawbone',\n",
       " 'tied charger for conversations lasting more than minutes major problems',\n",
       " 'mic is great',\n",
       " 'have jiggle plug get line up right get decent volume',\n",
       " 'if you have several dozen or several hundred contacts then imagine fun sending each them one by one',\n",
       " 'if you are razr owner you must have this',\n",
       " 'needless say wasted my money',\n",
       " 'what waste money and time']"
      ]
     },
     "execution_count": 7,
     "metadata": {},
     "output_type": "execute_result"
    }
   ],
   "source": [
    "#Let us look at the sentences: \n",
    "sents_processed[0:10] "
   ]
  },
  {
   "cell_type": "markdown",
   "id": "faa51841-a678-442d-9379-70a8aebeac0f",
   "metadata": {},
   "source": [
    "## Bag of words:"
   ]
  },
  {
   "cell_type": "markdown",
   "id": "de65e9da-3266-4813-8726-7b6638d0474f",
   "metadata": {},
   "source": [
    "*  In order to use linear classifiers on our data set, we need to transform our textual data into numeric\r\n",
    "data. The classical way to do this is known as the bag of words representatioias \r\n",
    "term."
   ]
  },
  {
   "cell_type": "markdown",
   "id": "42b2c44f-6e03-43b5-989e-d24340b7a1e8",
   "metadata": {},
   "source": [
    "* In this representation, each word is thought of as corresponding to a number in \"{1, 2, ..., V}\" where \"V\" is the size of our vocabulary. And each sentence is represented as a V-dimensional vector, where is the number of times that word occurs in the sentence."
   ]
  },
  {
   "cell_type": "markdown",
   "id": "2a25b273-dcf6-46e1-bd67-f7a455ea868e",
   "metadata": {},
   "source": [
    "* To do this transformation, we will make use of the \"CountVectorizer\" class in \"scikit-learn\". We will cap the number of features at 4500, meaning a word will make it into our vocabulary only if it is one of the 4500 most common words in the corpus. This is often a useful step as it can weed out spelling mistakes and words which occur too infrequently to be useful."
   ]
  },
  {
   "cell_type": "markdown",
   "id": "6c0b7ec2-6719-49d0-a746-597d9aa74c02",
   "metadata": {},
   "source": [
    "* Finally, we will also append a '1' to the end of each vector to allow our linear classifier to learn a bias term."
   ]
  },
  {
   "cell_type": "code",
   "execution_count": 8,
   "id": "6c5e5713-e0b2-4bb5-9b58-2a00bde5b83e",
   "metadata": {},
   "outputs": [],
   "source": [
    "# Transform to bag of words representation. \n",
    "vectorizer = CountVectorizer(analyzer = \"word\", tokenizer = None, \n",
    "preprocessor = None, stop_words = None, max_features = 4500) \n",
    "data_features = vectorizer.fit_transform(sents_processed) \n",
    "# Append '1' to the end of each vector. \n",
    "data_mat = data_features.toarray()"
   ]
  },
  {
   "cell_type": "code",
   "execution_count": 9,
   "id": "d144953b-01d5-42cb-aa4a-ba22e7c00b3f",
   "metadata": {},
   "outputs": [
    {
     "name": "stdout",
     "output_type": "stream",
     "text": [
      "train data:  (2500, 4500)\n",
      "test data:  (500, 4500)\n"
     ]
    }
   ],
   "source": [
    "#Training / test split - We split the data into a training set of 2500 sentences \n",
    "# and a test set of 500 sentences (of which 250 are positive and 250 negative). \n",
    "# Split the data into testing and training sets \n",
    "np.random.seed(0) \n",
    "test_inds = np.append(np.random.choice((np.where(y==-1))[0], 250, \n",
    "replace=False), np.random.choice((np.where(y==1))[0], 250, \n",
    "replace=False)) \n",
    "train_inds = list(set(range(len(labels))) - set(test_inds)) \n",
    " \n",
    "train_data = data_mat[train_inds,] \n",
    "train_labels = y[train_inds] \n",
    " \n",
    "test_data = data_mat[test_inds,] \n",
    "test_labels = y[test_inds] \n",
    " \n",
    "print(\"train data: \", train_data.shape) \n",
    "print(\"test data: \", test_data.shape)"
   ]
  },
  {
   "cell_type": "markdown",
   "id": "dd349a10-b829-41b0-80a0-20d316608c82",
   "metadata": {},
   "source": [
    "## Fitting a logistic regression model to the training data \r\n"
   ]
  },
  {
   "cell_type": "markdown",
   "id": "ea42ae28-753f-48c2-9656-899084e16e43",
   "metadata": {},
   "source": [
    "* We could implement our own logistic regression solver using stochastic gradient descent, \n",
    "but fortunately, there is already one built into \"scikit-learn\"\n",
    "* Due to the randomness in the SGD procedure, different runs can yield slightly different \r\n",
    "solutions (and thus different error values).  "
   ]
  },
  {
   "cell_type": "code",
   "execution_count": 10,
   "id": "45474ba4-92c6-4660-b8d2-4f2ef1703f67",
   "metadata": {},
   "outputs": [
    {
     "name": "stdout",
     "output_type": "stream",
     "text": [
      "Training error:  0.0016\n",
      "Test error:  0.176\n"
     ]
    }
   ],
   "source": [
    "# Fit logistic classifier on training data \n",
    "clf = SGDClassifier(loss=\"log\", penalty=\"none\") \n",
    "clf.fit(train_data, train_labels) \n",
    "# Pull out the parameters (w,b) of the logistic regression model \n",
    "w = clf.coef_[0,:] \n",
    "b = clf.intercept_ \n",
    "# Get predictions on training and test data \n",
    "preds_train = clf.predict(train_data) \n",
    "preds_test = clf.predict(test_data) \n",
    "# Compute errors \n",
    "errs_train = np.sum((preds_train > 0.0) != (train_labels > 0.0)) \n",
    "errs_test = np.sum((preds_test > 0.0) != (test_labels > 0.0)) \n",
    "print (\"Training error: \", float(errs_train)/len(train_labels)) \n",
    "print (\"Test error: \", float(errs_test)/len(test_labels)) "
   ]
  },
  {
   "cell_type": "markdown",
   "id": "5c69f1c9-7ede-42bc-bf48-f1bbf91f9876",
   "metadata": {},
   "source": [
    "## Analyzing the margin "
   ]
  },
  {
   "cell_type": "markdown",
   "id": "07e8f382-3545-4e98-86d4-ef2eb385ebf8",
   "metadata": {},
   "source": [
    "* The logistic regression model produces not just classifications but also conditional \n",
    "probability estimates. "
   ]
  },
  {
   "cell_type": "markdown",
   "id": "9fb3d344-2782-402e-aef5-56e76bd4bd38",
   "metadata": {},
   "source": [
    "* We will say that \"x\" has margin \"gamma\" if (according to the logistic regression model) \r\n",
    "\"Pr(y=1|x) > (1/2)+gamma\" or \"Pr(y=1|x) < (1/2)-gamma\". The following function \r\n",
    "margin_counts takes as input as the classifier (\"clf\", computed earlier), the test set \r\n",
    "(\"test_data\"), and a value of \"gamma\", and computes how many points in the test set have \r\n",
    "margin of at least \"gamma\"."
   ]
  },
  {
   "cell_type": "code",
   "execution_count": 11,
   "id": "bb232516-0d31-42c7-ab25-6071e5cdf55f",
   "metadata": {},
   "outputs": [
    {
     "data": {
      "image/png": "[encoded data removed]",
      "text/plain": [
       "<Figure size 640x480 with 1 Axes>"
      ]
     },
     "metadata": {},
     "output_type": "display_data"
    }
   ],
   "source": [
    "# Return number of test points for which Pr(y=1) lies in [0, 0.5 - gamma) or (0.5 + gamma, 1] \n",
    "def margin_counts(clf, test_data, gamma): \n",
    "    # Compute probability on each test point \n",
    "    preds = clf.predict_proba(test_data)[:,1] \n",
    "    # Find data points for which prediction is at least gamma away from 0.5 \n",
    "    margin_inds = np.where((preds > (0.5+gamma)) | (preds < (0.5 - gamma)))[0] \n",
    "    return float(len(margin_inds)) \n",
    " \n",
    "#Let us visualize the test set's distribution of margin values. \n",
    "gammas = np.arange(0, 0.5, 0.01) \n",
    "f = np.vectorize(lambda g: margin_counts(clf, test_data, g)) \n",
    "plt.plot(gammas, f(gammas) / 500.0, linewidth=2, color='green') \n",
    "plt.xlabel('Margin', fontsize=14) \n",
    "plt.ylabel('Fraction of points above margin', fontsize=14) \n",
    "plt.show() "
   ]
  },
  {
   "cell_type": "code",
   "execution_count": 13,
   "id": "2759a47d-23b3-40ee-a638-9dbdc39af380",
   "metadata": {},
   "outputs": [],
   "source": [
    "#We investigate a natural question: \"Are points \"x\" with larger margin more likely to \n",
    "# be classified correctly? To address this, we define a function margin_errors \n",
    "# that computes the fraction of points with margin at least \"gamma\" that are misclassified. \n",
    "# Return error of predictions that lie in intervals [0, 0.5 - gamma) and (0.5 + gamma, 1] \n",
    "def margin_errors(clf, test_data, test_labels, gamma): \n",
    "    # Compute probability on each test point \n",
    "    preds = clf.predict_proba(test_data)[:,1] \n",
    "    # Find data points for which prediction is at least gamma away from 0.5 \n",
    "    margin_inds = np.where((preds > (0.5+gamma)) | (preds < (0.5 - gamma)))[0] \n",
    "    # Compute error on those data points. \n",
    "    num_errors = np.sum((preds[margin_inds] > 0.5) != (test_labels[margin_inds] > 0.0)) \n",
    "    return float(num_errors)/len(margin_inds) "
   ]
  },
  {
   "cell_type": "code",
   "execution_count": 14,
   "id": "c98119a5-2e19-418e-b662-5c7508fa4a35",
   "metadata": {},
   "outputs": [
    {
     "data": {
      "image/png": "[encoded data removed]",
      "text/plain": [
       "<Figure size 640x480 with 1 Axes>"
      ]
     },
     "metadata": {},
     "output_type": "display_data"
    }
   ],
   "source": [
    "#Let us visualize the relationship between margin and error rate. \n",
    "# Create grid of gamma values \n",
    "gammas = np.arange(0, 0.5, 0.01) \n",
    "# Compute margin_errors on test data for each value of g \n",
    "f = np.vectorize(lambda g: margin_errors(clf, test_data, test_labels, g)) \n",
    "# Plot the result \n",
    "plt.plot(gammas, f(gammas), linewidth=2) \n",
    "plt.ylabel('Error rate', fontsize=14) \n",
    "plt.xlabel('Margin', fontsize=14) \n",
    "plt.show() "
   ]
  },
  {
   "cell_type": "markdown",
   "id": "c84ffcd6-f3fa-478c-9a8f-df0d923e51e4",
   "metadata": {},
   "source": [
    "##  Words with large influence"
   ]
  },
  {
   "cell_type": "markdown",
   "id": "b01b96d5-310b-4665-b9f3-1cafbdf3d820",
   "metadata": {},
   "source": [
    "* Finally, we attempt to partially interpret the logistic regression model. "
   ]
  },
  {
   "cell_type": "markdown",
   "id": "b79ba49c-2e39-4e67-b654-ce974764c57c",
   "metadata": {},
   "source": [
    "* Which words are most important in deciding whether a sentence is positive? As a first approximation \r\n",
    "to this, we simply take the words whose coefficients in \"w\" have the largest positive values. "
   ]
  },
  {
   "cell_type": "markdown",
   "id": "7b087224-4565-43db-ac42-4cb7cdb65ad6",
   "metadata": {},
   "source": [
    "* Likewise, we look at the words whose coefficients in \"w\" have the most negative values, and we \r\n",
    "think of these as influential in negative predictions "
   ]
  },
  {
   "cell_type": "code",
   "execution_count": 15,
   "id": "5010da56-0ae9-460e-9520-9e58c37454e8",
   "metadata": {},
   "outputs": [
    {
     "name": "stdout",
     "output_type": "stream",
     "text": [
      "Highly negative words: \n",
      "['sucks', 'worst', 'poor', 'avoid', 'bad', 'aren', 'bland', 'pm', 'rude', 'disappointment', 'started', 'unfortunately', 'directing', 'slow', 'mediocre', 'wasn', 'wasted', 'minutes', 'then', 'ok', 'stereotypes', 'return', 'stupid', 'wife', 'fly', 'waste', 'fails', 'racial', 'literally', 'looks', 'another', 'ripped', 'picture', 'dishes', 'within', 'boring', 'make', 'torture', 'awful', 'guess', 'flat', 'green', 'low', 'sitting', 'disappointing', 'put', 'depth', 'year', 'didn', 'par']\n",
      "Highly positive words: \n",
      "['masculine', 'screamy', 'art', 'struggle', 'tom', 'easy', 'best', 'brings', 'happier', 'funny', 'wow', 'parts', 'definitely', 'enjoyed', 'scottsdale', 'cult', 'plays', 'beer', 'incredible', 'angel', 'years', 'ponyo', 'either', 'lovely', 'sex', 'family', 'hope', 'occasionally', 'amazing', 'decent', 'love', 'cool', 'exactly', 'fun', 'joy', 'scamp', 'works', 'great', 'awesome', 'delicious', 'loved', 'excellent', 'liked', 'fantastic', 'interesting', 'beautiful', 'comfortable', 'nice']\n"
     ]
    }
   ],
   "source": [
    "# Convert vocabulary into a list: \n",
    "vocab = np.array([z[0] for z in sorted(vectorizer.vocabulary_.items(), \n",
    "key=lambda x:x[1])]) \n",
    "# Get indices of sorting w \n",
    "inds = np.argsort(w) \n",
    "# Words with large negative values \n",
    "neg_inds = inds[0:50] \n",
    "print(\"Highly negative words: \") \n",
    "print([str(x) for x in list(vocab[neg_inds])]) \n",
    "# Words with large positive values \n",
    "pos_inds = inds[-49:-1] \n",
    "print(\"Highly positive words: \") \n",
    "print([str(x) for x in list(vocab[pos_inds])]) "
   ]
  },
  {
   "cell_type": "code",
   "execution_count": null,
   "id": "b5570354-13de-4144-8102-7d9dd25ed5a9",
   "metadata": {},
   "outputs": [],
   "source": []
  }
 ],
 "metadata": {
  "kernelspec": {
   "display_name": "Python 3 (ipykernel)",
   "language": "python",
   "name": "python3"
  },
  "language_info": {
   "codemirror_mode": {
    "name": "ipython",
    "version": 3
   },
   "file_extension": ".py",
   "mimetype": "text/x-python",
   "name": "python",
   "nbconvert_exporter": "python",
   "pygments_lexer": "ipython3",
   "version": "3.9.18"
  }
 },
 "nbformat": 4,
 "nbformat_minor": 5
}
